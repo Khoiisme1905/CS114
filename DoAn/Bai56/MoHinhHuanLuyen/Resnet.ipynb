{
 "cells": [
  {
   "cell_type": "code",
   "execution_count": 1,
   "id": "3f016c1c",
   "metadata": {},
   "outputs": [],
   "source": [
    "import os\n",
    "import glob\n",
    "import csv #Thao tac voi he thong tep\n",
    "from PIL import Image #Xu ly anh(mo, chuyen doi dinh dang)\n",
    "from pillow_heif import register_heif_opener #mo dinh dang .heic\n",
    "register_heif_opener()\n",
    "\n",
    "import torch\n",
    "import torch.nn as nn\n",
    "import torch.nn.functional as F\n",
    "from torch.utils.data import Dataset, DataLoader\n",
    "import torchvision.transforms as transforms\n",
    "from torchvision import models\n"
   ]
  },
  {
   "cell_type": "code",
   "execution_count": null,
   "id": "4e2b4d8c",
   "metadata": {},
   "outputs": [
    {
     "ename": "NameError",
     "evalue": "name 'Dataset' is not defined",
     "output_type": "error",
     "traceback": [
      "\u001b[1;31m---------------------------------------------------------------------------\u001b[0m",
      "\u001b[1;31mNameError\u001b[0m                                 Traceback (most recent call last)",
      "Cell \u001b[1;32mIn[2], line 1\u001b[0m\n\u001b[1;32m----> 1\u001b[0m \u001b[38;5;28;01mclass\u001b[39;00m\u001b[38;5;250m \u001b[39m\u001b[38;5;21;01mMyDigitDataset\u001b[39;00m(\u001b[43mDataset\u001b[49m):\n\u001b[0;32m      2\u001b[0m     \u001b[38;5;28;01mdef\u001b[39;00m\u001b[38;5;250m \u001b[39m\u001b[38;5;21m__init__\u001b[39m(\u001b[38;5;28mself\u001b[39m, root_dir, transform\u001b[38;5;241m=\u001b[39m\u001b[38;5;28;01mNone\u001b[39;00m):\n\u001b[0;32m      3\u001b[0m         \u001b[38;5;28mself\u001b[39m\u001b[38;5;241m.\u001b[39mtransform \u001b[38;5;241m=\u001b[39m transform \u001b[38;5;66;03m#xu ly anh truoc khi dua vao mo hinh\u001b[39;00m\n",
      "\u001b[1;31mNameError\u001b[0m: name 'Dataset' is not defined"
     ]
    }
   ],
   "source": [
    "class MyDigitDataset(Dataset):\n",
    "    def __init__(self, root_dir, transform=None):\n",
    "        self.transform = transform\n",
    "        self.image_paths = []\n",
    "        for ext in ('*.jpg', '*.jpeg', '*.png', '*.heic', '*.jfif'):\n",
    "            # Quét đệ quy tất cả ảnh trong các thư mục con\n",
    "            self.image_paths.extend(glob.glob(os.path.join(root_dir, '**', ext), recursive=True))\n",
    "\n",
    "        # Kiểm tra và lọc các ảnh hợp lệ\n",
    "        valid_paths = []\n",
    "        for path in self.image_paths:\n",
    "            try:\n",
    "                Image.open(path).verify()\n",
    "                valid_paths.append(path)\n",
    "            except:\n",
    "                print(f\"Ảnh lỗi (bỏ qua): {path}\")\n",
    "        self.image_paths = valid_paths\n",
    "\n",
    "    def __len__(self):\n",
    "        return len(self.image_paths)\n",
    "\n",
    "    def __getitem__(self, idx):\n",
    "        img_path = self.image_paths[idx]\n",
    "        try:\n",
    "            image = Image.open(img_path).convert(\"RGB\")\n",
    "            label = int(os.path.basename(img_path).split('_')[0])\n",
    "            if self.transform:\n",
    "                image = self.transform(image)\n",
    "            return image, label\n",
    "        except:\n",
    "            print(f\"Lỗi ảnh: {img_path}\")\n",
    "            return None\n",
    "# Quét tất cả ảnh trong thư mục training với các định dạng được hỗ trợ\n",
    "# Label được trích xuất từ tên file (ký tự đầu tiên trước dấu '_')\n",
    "\n",
    "# Ví dụ: 5_image001.jpg → label = 5\n",
    "\n",
    "\n",
    "# Convert ảnh sang RGB để đảm bảo 3 channels\n",
    "# Áp dụng transform (data augmentation) nếu có\n",
    "# Xử lý lỗi khi ảnh bị hỏng\n",
    "class MyTestDataset(Dataset): #de quy het tap test\n",
    "    def __init__(self, folder, transform=None):\n",
    "        self.transform = transform\n",
    "        self.image_paths = []\n",
    "        for ext in ('*.jpg', '*.jpeg', '*.png', '*.heic', '*.jfif'):\n",
    "            self.image_paths.extend(glob.glob(os.path.join(folder, '**', ext), recursive=True))\n",
    "\n",
    "        valid_paths = []\n",
    "        for path in self.image_paths:\n",
    "            try:\n",
    "                Image.open(path).verify()\n",
    "                valid_paths.append(path)\n",
    "            except:\n",
    "                print(f\"Ảnh lỗi (bỏ qua): {path}\")\n",
    "        self.image_paths = valid_paths\n",
    "\n",
    "    def __len__(self):\n",
    "        return len(self.image_paths)\n",
    "\n",
    "    def __getitem__(self, idx):\n",
    "        img_path = self.image_paths[idx]\n",
    "        image = Image.open(img_path).convert(\"RGB\")\n",
    "        if self.transform:\n",
    "            image = self.transform(image)\n",
    "        return image, img_path\n",
    "# Tìm kiếm đệ quy trong các thư mục con (recursive=True)\n",
    "# Kiểm tra tính hợp lệ của ảnh trước khi thêm vào danh sách\n",
    "# Trả về đường dẫn file thay vì label (vì test set không có label)"
   ]
  },
  {
   "cell_type": "code",
   "execution_count": null,
   "id": "85aeffd6",
   "metadata": {},
   "outputs": [],
   "source": [
    "transformtrain = transforms.Compose([\n",
    "    transforms.Resize((224, 224)), #resize ve 224x224\n",
    "    transforms.RandomHorizontalFlip(), #dao chieu random de nhan dien chinh xac hon\n",
    "    transforms.ToTensor(), #chuyen anh sang tensor\n",
    "    transforms.Normalize(mean=[0.485, 0.456, 0.406],\n",
    "                         std=[0.229, 0.224, 0.225])\n",
    "])\n",
    "\n",
    "transformtest = transforms.Compose([\n",
    "    transforms.Resize((224, 224)),\n",
    "    transforms.ToTensor(),\n",
    "    transforms.Normalize(mean=[0.485, 0.456, 0.406], #gia tri trung binh 3 mau rgb\n",
    "                         std=[0.229, 0.224, 0.225]) #do lech chuan 3 mau rgb\n",
    "])\n"
   ]
  },
  {
   "cell_type": "code",
   "execution_count": 4,
   "id": "3287795d",
   "metadata": {},
   "outputs": [
    {
     "name": "stdout",
     "output_type": "stream",
     "text": [
      "Lỗi ảnh: D:\\CS114_P21\\Doan\\train\\gốc 9.jpg\n",
      "Lỗi ảnh: D:\\CS114_P21\\Doan\\train\\img_17.jpg\n",
      "Ảnh lỗi (bỏ qua): D:\\CS114_P21\\Doan\\test\\2c18ee0e7cea8354149df435532d74ae.jpeg\n",
      "Ảnh lỗi (bỏ qua): D:\\CS114_P21\\Doan\\test\\3a816aa78f56749a0822d700ff560924.jpeg\n",
      "Ảnh lỗi (bỏ qua): D:\\CS114_P21\\Doan\\test\\4abc1b5dcf1be1de6503dc072e132fa0.jpeg\n",
      "Ảnh lỗi (bỏ qua): D:\\CS114_P21\\Doan\\test\\70ebf0bec317006017a54d6c9172af45.jpeg\n",
      "Ảnh lỗi (bỏ qua): D:\\CS114_P21\\Doan\\test\\8eeee227b3f244e980b747387bc79bf2.jpeg\n",
      "Ảnh lỗi (bỏ qua): D:\\CS114_P21\\Doan\\test\\9e748b9617e26b90011f8d7c3f8a7eee.jpeg\n",
      "Ảnh lỗi (bỏ qua): D:\\CS114_P21\\Doan\\test\\a008f795ae8498751f2e5feeb0b73387.jpeg\n",
      "Ảnh lỗi (bỏ qua): D:\\CS114_P21\\Doan\\test\\ce2388179ec73203a60d8efedd04e0f1.jpeg\n",
      "Ảnh lỗi (bỏ qua): D:\\CS114_P21\\Doan\\test\\d4b080c6ce4933f1199fad7f75e7d112.jpeg\n",
      "Ảnh lỗi (bỏ qua): D:\\CS114_P21\\Doan\\test\\e21dcb1cb0571a21a013b4232d1b6a13.jpeg\n",
      "Ảnh lỗi (bỏ qua): D:\\CS114_P21\\Doan\\test\\f7679411e290bfd8dc90b3eadb57460a.jpeg\n",
      "Ảnh lỗi (bỏ qua): D:\\CS114_P21\\Doan\\test\\ffd4f9df7163f55474a0182265c8d810.jpeg\n",
      "Train samples: 4325\n",
      "Test samples: 9975\n"
     ]
    }
   ],
   "source": [
    "root_path = r'D:\\CS114_P21\\Doan\\train'\n",
    "test_folder = r'D:\\CS114_P21\\Doan\\test'\n",
    "traindata = MyDigitDataset(root_path, transform=transformtrain)\n",
    "traindata = [item for item in traindata if item is not None]\n",
    "train_loader = DataLoader(traindata, batch_size=64, shuffle=True, num_workers=0)\n",
    "\n",
    "testdata = MyTestDataset(test_folder, transform=transformtest)\n",
    "test_loader = DataLoader(testdata, batch_size=64, shuffle=False, num_workers=0)\n",
    "\n",
    "print(\"Train samples:\", len(traindata))\n",
    "print(\"Test samples:\", len(testdata))\n",
    "# batch_size=64: Xử lý 64 ảnh cùng lúc\n",
    "# shuffle=True cho training: Trộn ngẫu nhiên dữ liệu\n",
    "# shuffle=False cho test: Giữ thứ tự để map kết quả với file\n",
    "# num_workers=0: Không dùng multiprocessing (tránh lỗi trên Windows)"
   ]
  },
  {
   "cell_type": "code",
   "execution_count": 5,
   "id": "98037c93",
   "metadata": {},
   "outputs": [
    {
     "name": "stderr",
     "output_type": "stream",
     "text": [
      "d:\\Python3_10\\lib\\site-packages\\torchvision\\models\\_utils.py:208: UserWarning: The parameter 'pretrained' is deprecated since 0.13 and may be removed in the future, please use 'weights' instead.\n",
      "  warnings.warn(\n",
      "d:\\Python3_10\\lib\\site-packages\\torchvision\\models\\_utils.py:223: UserWarning: Arguments other than a weight enum or `None` for 'weights' are deprecated since 0.13 and may be removed in the future. The current behavior is equivalent to passing `weights=ResNet18_Weights.IMAGENET1K_V1`. You can also use `weights=ResNet18_Weights.DEFAULT` to get the most up-to-date weights.\n",
      "  warnings.warn(msg)\n"
     ]
    }
   ],
   "source": [
    "#Khoi tao mo hinh\n",
    "device = torch.device(\"cuda\" if torch.cuda.is_available() else \"cpu\")\n",
    "model = models.resnet18(pretrained=True)\n",
    "model.fc = nn.Linear(model.fc.in_features, 10)\n",
    "model = model.to(device)\n",
    "\n",
    "criterion = nn.CrossEntropyLoss()\n",
    "optimizer = torch.optim.Adam(model.parameters(), lr=0.001)\n",
    "# nn.CrossEntropyLoss():\n",
    "# tính xác xuất softmax : từng kết quả chưa chuẩn hóa chia cho tổng các kết quả chưa chuẩn hóa\n"
   ]
  },
  {
   "cell_type": "code",
   "execution_count": 6,
   "id": "e463dac1",
   "metadata": {},
   "outputs": [],
   "source": [
    "#Danh gia do chinh xac\n",
    "def evaluate(model, dataloader):\n",
    "    model.eval()\n",
    "    correct, total = 0, 0\n",
    "    with torch.no_grad():\n",
    "        for images, labels in dataloader:\n",
    "            images, labels = images.to(device), labels.to(device)\n",
    "            outputs = model(images)\n",
    "            _, preds = torch.max(outputs, 1)\n",
    "            correct += (preds == labels).sum().item()\n",
    "            total += labels.size(0)\n",
    "    return correct / total if total > 0 else 0\n"
   ]
  },
  {
   "cell_type": "code",
   "execution_count": null,
   "id": "4d5e25d5",
   "metadata": {},
   "outputs": [],
   "source": [
    "#Qua trinh huan luyen\n",
    "num_epochs = 50\n",
    "for epoch in range(num_epochs):\n",
    "    model.train()\n",
    "    running_loss = 0.0\n",
    "    for images, labels in train_loader:\n",
    "        images, labels = images.to(device), labels.to(device)\n",
    "        optimizer.zero_grad()\n",
    "        outputs = model(images)\n",
    "        loss = criterion(outputs, labels)\n",
    "        loss.backward()\n",
    "        optimizer.step()\n",
    "        running_loss += loss.item()\n",
    "\n",
    "    avg_loss = running_loss / len(train_loader)\n",
    "    train_acc = evaluate(model, train_loader)\n",
    "    print(f\"Epoch {epoch+1}/{num_epochs}, Loss: {avg_loss:.4f}, Accuracy: {train_acc*100:.2f}%\")\n",
    "# Forward pass: Tính output từ input\n",
    "# Loss calculation: So sánh output với ground truth\n",
    "# Backward pass: Tính gradient\n",
    "# Parameter update: Cập nhật weights\n",
    "# Evaluation: Tính accuracy trên tập training\n"
   ]
  },
  {
   "cell_type": "code",
   "execution_count": null,
   "id": "d346d21e",
   "metadata": {},
   "outputs": [],
   "source": [
    "#Du doan va xuat ket qua\n",
    "model.eval()\n",
    "results = []\n",
    "with torch.no_grad():\n",
    "    for images, img_paths in test_loader:\n",
    "        images = images.to(device)\n",
    "        outputs = model(images)\n",
    "        _, preds = torch.max(outputs, 1)\n",
    "        preds = preds.cpu().numpy()\n",
    "        for path, pred in zip(img_paths, preds):\n",
    "            filename = os.path.basename(path)\n",
    "            results.append([filename, int(pred)])\n",
    "\n",
    "with open('WECODE_RESNET18.csv', 'w', newline='', encoding='utf-8') as f:\n",
    "    writer = csv.writer(f)\n",
    "    writer.writerow(['filename', 'prediction'])\n",
    "    writer.writerows(results)\n",
    "# Chuyển model sang evaluation mode\n",
    "# Dự đoán trên từng batch của test set\n",
    "# Map mỗi file với prediction tương ứng\n",
    "# Xuất kết quả ra file CSV với format: filename, prediction"
   ]
  }
 ],
 "metadata": {
  "kernelspec": {
   "display_name": "Python 3",
   "language": "python",
   "name": "python3"
  },
  "language_info": {
   "codemirror_mode": {
    "name": "ipython",
    "version": 3
   },
   "file_extension": ".py",
   "mimetype": "text/x-python",
   "name": "python",
   "nbconvert_exporter": "python",
   "pygments_lexer": "ipython3",
   "version": "3.10.0"
  }
 },
 "nbformat": 4,
 "nbformat_minor": 5
}
